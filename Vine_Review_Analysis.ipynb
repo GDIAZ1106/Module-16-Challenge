{
 "cells": [
  {
   "cell_type": "markdown",
   "metadata": {},
   "source": [
    "# Deliverable 2: Determine Bias of Vine Reviews\n",
    "You’ll determine if there is any bias towards reviews that were written as part of the Vine program. For this analysis, you'll determine if having a paid Vine review makes a difference in the percentage of 5-star reviews."
   ]
  },
  {
   "cell_type": "code",
   "execution_count": null,
   "metadata": {},
   "outputs": [],
   "source": [
    "# Import dependencies\n",
    "import pandas as pd \n",
    "\n",
    "# Read the CVS File\n",
    "Vine_df = pd.read_csv(\"\")\n"
   ]
  }
 ],
 "metadata": {
  "interpreter": {
   "hash": "960681abdf8d61af765a81bc104fb7f68d79de72a6a3736d4a84eae11b1df974"
  },
  "kernelspec": {
   "display_name": "Python 3.9.10 64-bit (windows store)",
   "language": "python",
   "name": "python3"
  },
  "language_info": {
   "name": "python",
   "version": "3.9.10"
  },
  "orig_nbformat": 4
 },
 "nbformat": 4,
 "nbformat_minor": 2
}
